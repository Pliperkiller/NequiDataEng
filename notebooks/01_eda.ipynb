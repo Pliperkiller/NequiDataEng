{
 "cells": [
  {
   "cell_type": "markdown",
   "id": "aa1a8512236ff996",
   "metadata": {},
   "source": [
    "# Importacion y analisis inicial"
   ]
  },
  {
   "cell_type": "code",
   "execution_count": 1,
   "id": "initial_id",
   "metadata": {
    "ExecuteTime": {
     "end_time": "2025-04-08T02:43:27.668506Z",
     "start_time": "2025-04-08T02:43:20.403181Z"
    },
    "collapsed": true
   },
   "outputs": [
    {
     "name": "stdout",
     "output_type": "stream",
     "text": [
      "Dimensiones del dataset: (6362620, 11)\n"
     ]
    }
   ],
   "source": [
    "import pandas as pd\n",
    "from pathlib import Path\n",
    "import matplotlib.pyplot as plt\n",
    "import seaborn as sns\n",
    "import numpy as np\n",
    "\n",
    "base_dir = Path().resolve().parent\n",
    "# Ruta al archivo\n",
    "dataset_path = base_dir / 'data' / 'raw' / 'PS_20174392719_1491204439457_log.csv'\n",
    "output_path = base_dir / 'data' / 'processed' / 'data_cleaned.parquet'\n",
    "\n",
    "\n",
    "# Cargar dataset\n",
    "df = pd.read_csv(dataset_path)\n",
    "\n",
    "# Mostrar dimensiones del dataset\n",
    "print(f\"Dimensiones del dataset: {df.shape}\")"
   ]
  },
  {
   "cell_type": "code",
   "execution_count": 6,
   "id": "973186a731c1c59b",
   "metadata": {
    "ExecuteTime": {
     "end_time": "2025-04-08T02:45:01.762085Z",
     "start_time": "2025-04-08T02:45:01.750508Z"
    }
   },
   "outputs": [
    {
     "name": "stdout",
     "output_type": "stream",
     "text": [
      "\n",
      "Primeras filas:\n"
     ]
    },
    {
     "data": {
      "text/html": [
       "<div>\n",
       "<style scoped>\n",
       "    .dataframe tbody tr th:only-of-type {\n",
       "        vertical-align: middle;\n",
       "    }\n",
       "\n",
       "    .dataframe tbody tr th {\n",
       "        vertical-align: top;\n",
       "    }\n",
       "\n",
       "    .dataframe thead th {\n",
       "        text-align: right;\n",
       "    }\n",
       "</style>\n",
       "<table border=\"1\" class=\"dataframe\">\n",
       "  <thead>\n",
       "    <tr style=\"text-align: right;\">\n",
       "      <th></th>\n",
       "      <th>step</th>\n",
       "      <th>type</th>\n",
       "      <th>amount</th>\n",
       "      <th>nameOrig</th>\n",
       "      <th>oldbalanceOrg</th>\n",
       "      <th>newbalanceOrig</th>\n",
       "      <th>nameDest</th>\n",
       "      <th>oldbalanceDest</th>\n",
       "      <th>newbalanceDest</th>\n",
       "      <th>isFraud</th>\n",
       "      <th>isFlaggedFraud</th>\n",
       "    </tr>\n",
       "  </thead>\n",
       "  <tbody>\n",
       "    <tr>\n",
       "      <th>0</th>\n",
       "      <td>1</td>\n",
       "      <td>PAYMENT</td>\n",
       "      <td>9839.64</td>\n",
       "      <td>C1231006815</td>\n",
       "      <td>170136.0</td>\n",
       "      <td>160296.36</td>\n",
       "      <td>M1979787155</td>\n",
       "      <td>0.0</td>\n",
       "      <td>0.0</td>\n",
       "      <td>0</td>\n",
       "      <td>0</td>\n",
       "    </tr>\n",
       "    <tr>\n",
       "      <th>1</th>\n",
       "      <td>1</td>\n",
       "      <td>PAYMENT</td>\n",
       "      <td>1864.28</td>\n",
       "      <td>C1666544295</td>\n",
       "      <td>21249.0</td>\n",
       "      <td>19384.72</td>\n",
       "      <td>M2044282225</td>\n",
       "      <td>0.0</td>\n",
       "      <td>0.0</td>\n",
       "      <td>0</td>\n",
       "      <td>0</td>\n",
       "    </tr>\n",
       "    <tr>\n",
       "      <th>2</th>\n",
       "      <td>1</td>\n",
       "      <td>TRANSFER</td>\n",
       "      <td>181.00</td>\n",
       "      <td>C1305486145</td>\n",
       "      <td>181.0</td>\n",
       "      <td>0.00</td>\n",
       "      <td>C553264065</td>\n",
       "      <td>0.0</td>\n",
       "      <td>0.0</td>\n",
       "      <td>1</td>\n",
       "      <td>0</td>\n",
       "    </tr>\n",
       "    <tr>\n",
       "      <th>3</th>\n",
       "      <td>1</td>\n",
       "      <td>CASH_OUT</td>\n",
       "      <td>181.00</td>\n",
       "      <td>C840083671</td>\n",
       "      <td>181.0</td>\n",
       "      <td>0.00</td>\n",
       "      <td>C38997010</td>\n",
       "      <td>21182.0</td>\n",
       "      <td>0.0</td>\n",
       "      <td>1</td>\n",
       "      <td>0</td>\n",
       "    </tr>\n",
       "    <tr>\n",
       "      <th>4</th>\n",
       "      <td>1</td>\n",
       "      <td>PAYMENT</td>\n",
       "      <td>11668.14</td>\n",
       "      <td>C2048537720</td>\n",
       "      <td>41554.0</td>\n",
       "      <td>29885.86</td>\n",
       "      <td>M1230701703</td>\n",
       "      <td>0.0</td>\n",
       "      <td>0.0</td>\n",
       "      <td>0</td>\n",
       "      <td>0</td>\n",
       "    </tr>\n",
       "  </tbody>\n",
       "</table>\n",
       "</div>"
      ],
      "text/plain": [
       "   step      type    amount     nameOrig  oldbalanceOrg  newbalanceOrig  \\\n",
       "0     1   PAYMENT   9839.64  C1231006815       170136.0       160296.36   \n",
       "1     1   PAYMENT   1864.28  C1666544295        21249.0        19384.72   \n",
       "2     1  TRANSFER    181.00  C1305486145          181.0            0.00   \n",
       "3     1  CASH_OUT    181.00   C840083671          181.0            0.00   \n",
       "4     1   PAYMENT  11668.14  C2048537720        41554.0        29885.86   \n",
       "\n",
       "      nameDest  oldbalanceDest  newbalanceDest  isFraud  isFlaggedFraud  \n",
       "0  M1979787155             0.0             0.0        0               0  \n",
       "1  M2044282225             0.0             0.0        0               0  \n",
       "2   C553264065             0.0             0.0        1               0  \n",
       "3    C38997010         21182.0             0.0        1               0  \n",
       "4  M1230701703             0.0             0.0        0               0  "
      ]
     },
     "execution_count": 6,
     "metadata": {},
     "output_type": "execute_result"
    }
   ],
   "source": [
    "# Primeras filas\n",
    "print(\"\\nPrimeras filas:\")\n",
    "df.head()"
   ]
  },
  {
   "cell_type": "code",
   "execution_count": 7,
   "id": "76794180aea1f698",
   "metadata": {
    "ExecuteTime": {
     "end_time": "2025-04-08T02:45:37.508826Z",
     "start_time": "2025-04-08T02:45:37.500277Z"
    }
   },
   "outputs": [
    {
     "name": "stdout",
     "output_type": "stream",
     "text": [
      "\n",
      "Información del dataset:\n",
      "<class 'pandas.core.frame.DataFrame'>\n",
      "RangeIndex: 6362620 entries, 0 to 6362619\n",
      "Data columns (total 11 columns):\n",
      " #   Column          Dtype  \n",
      "---  ------          -----  \n",
      " 0   step            int64  \n",
      " 1   type            object \n",
      " 2   amount          float64\n",
      " 3   nameOrig        object \n",
      " 4   oldbalanceOrg   float64\n",
      " 5   newbalanceOrig  float64\n",
      " 6   nameDest        object \n",
      " 7   oldbalanceDest  float64\n",
      " 8   newbalanceDest  float64\n",
      " 9   isFraud         int64  \n",
      " 10  isFlaggedFraud  int64  \n",
      "dtypes: float64(5), int64(3), object(3)\n",
      "memory usage: 534.0+ MB\n",
      "None\n"
     ]
    }
   ],
   "source": [
    "# Información general\n",
    "print(\"\\nInformación del dataset:\")\n",
    "print(df.info())"
   ]
  },
  {
   "cell_type": "code",
   "execution_count": 34,
   "id": "0c38ae0d",
   "metadata": {},
   "outputs": [
    {
     "name": "stdout",
     "output_type": "stream",
     "text": [
      "step\n",
      "type\n",
      "amount\n",
      "nameOrig\n",
      "oldbalanceOrg\n",
      "newbalanceOrig\n",
      "nameDest\n",
      "oldbalanceDest\n",
      "newbalanceDest\n",
      "isFraud\n",
      "isFlaggedFraud\n"
     ]
    },
    {
     "data": {
      "text/plain": [
       "[None, None, None, None, None, None, None, None, None, None, None]"
      ]
     },
     "execution_count": 34,
     "metadata": {},
     "output_type": "execute_result"
    }
   ],
   "source": [
    "[print(column) for column in df.columns]"
   ]
  },
  {
   "cell_type": "code",
   "execution_count": 29,
   "id": "65be4cb897f0eec4",
   "metadata": {
    "ExecuteTime": {
     "end_time": "2025-04-08T02:45:55.136661Z",
     "start_time": "2025-04-08T02:45:53.706529Z"
    }
   },
   "outputs": [
    {
     "name": "stdout",
     "output_type": "stream",
     "text": [
      "\n",
      "Estadísticas descriptivas:\n"
     ]
    },
    {
     "data": {
      "text/html": [
       "<div>\n",
       "<style scoped>\n",
       "    .dataframe tbody tr th:only-of-type {\n",
       "        vertical-align: middle;\n",
       "    }\n",
       "\n",
       "    .dataframe tbody tr th {\n",
       "        vertical-align: top;\n",
       "    }\n",
       "\n",
       "    .dataframe thead th {\n",
       "        text-align: right;\n",
       "    }\n",
       "</style>\n",
       "<table border=\"1\" class=\"dataframe\">\n",
       "  <thead>\n",
       "    <tr style=\"text-align: right;\">\n",
       "      <th></th>\n",
       "      <th>step</th>\n",
       "      <th>type</th>\n",
       "      <th>amount</th>\n",
       "      <th>nameOrig</th>\n",
       "      <th>oldbalanceOrg</th>\n",
       "      <th>newbalanceOrig</th>\n",
       "      <th>nameDest</th>\n",
       "      <th>oldbalanceDest</th>\n",
       "      <th>newbalanceDest</th>\n",
       "      <th>isFraud</th>\n",
       "      <th>isFlaggedFraud</th>\n",
       "    </tr>\n",
       "  </thead>\n",
       "  <tbody>\n",
       "    <tr>\n",
       "      <th>count</th>\n",
       "      <td>6.362620e+06</td>\n",
       "      <td>6362620</td>\n",
       "      <td>6.362620e+06</td>\n",
       "      <td>6362620</td>\n",
       "      <td>6.362620e+06</td>\n",
       "      <td>6.362620e+06</td>\n",
       "      <td>6362620</td>\n",
       "      <td>6.362620e+06</td>\n",
       "      <td>6.362620e+06</td>\n",
       "      <td>6.362620e+06</td>\n",
       "      <td>6.362620e+06</td>\n",
       "    </tr>\n",
       "    <tr>\n",
       "      <th>unique</th>\n",
       "      <td>NaN</td>\n",
       "      <td>5</td>\n",
       "      <td>NaN</td>\n",
       "      <td>6353307</td>\n",
       "      <td>NaN</td>\n",
       "      <td>NaN</td>\n",
       "      <td>2722362</td>\n",
       "      <td>NaN</td>\n",
       "      <td>NaN</td>\n",
       "      <td>NaN</td>\n",
       "      <td>NaN</td>\n",
       "    </tr>\n",
       "    <tr>\n",
       "      <th>top</th>\n",
       "      <td>NaN</td>\n",
       "      <td>CASH_OUT</td>\n",
       "      <td>NaN</td>\n",
       "      <td>C1677795071</td>\n",
       "      <td>NaN</td>\n",
       "      <td>NaN</td>\n",
       "      <td>C1286084959</td>\n",
       "      <td>NaN</td>\n",
       "      <td>NaN</td>\n",
       "      <td>NaN</td>\n",
       "      <td>NaN</td>\n",
       "    </tr>\n",
       "    <tr>\n",
       "      <th>freq</th>\n",
       "      <td>NaN</td>\n",
       "      <td>2237500</td>\n",
       "      <td>NaN</td>\n",
       "      <td>3</td>\n",
       "      <td>NaN</td>\n",
       "      <td>NaN</td>\n",
       "      <td>113</td>\n",
       "      <td>NaN</td>\n",
       "      <td>NaN</td>\n",
       "      <td>NaN</td>\n",
       "      <td>NaN</td>\n",
       "    </tr>\n",
       "    <tr>\n",
       "      <th>mean</th>\n",
       "      <td>2.433972e+02</td>\n",
       "      <td>NaN</td>\n",
       "      <td>1.798619e+05</td>\n",
       "      <td>NaN</td>\n",
       "      <td>8.338831e+05</td>\n",
       "      <td>8.551137e+05</td>\n",
       "      <td>NaN</td>\n",
       "      <td>1.100702e+06</td>\n",
       "      <td>1.224996e+06</td>\n",
       "      <td>1.290820e-03</td>\n",
       "      <td>2.514687e-06</td>\n",
       "    </tr>\n",
       "    <tr>\n",
       "      <th>std</th>\n",
       "      <td>1.423320e+02</td>\n",
       "      <td>NaN</td>\n",
       "      <td>6.038582e+05</td>\n",
       "      <td>NaN</td>\n",
       "      <td>2.888243e+06</td>\n",
       "      <td>2.924049e+06</td>\n",
       "      <td>NaN</td>\n",
       "      <td>3.399180e+06</td>\n",
       "      <td>3.674129e+06</td>\n",
       "      <td>3.590480e-02</td>\n",
       "      <td>1.585775e-03</td>\n",
       "    </tr>\n",
       "    <tr>\n",
       "      <th>min</th>\n",
       "      <td>1.000000e+00</td>\n",
       "      <td>NaN</td>\n",
       "      <td>0.000000e+00</td>\n",
       "      <td>NaN</td>\n",
       "      <td>0.000000e+00</td>\n",
       "      <td>0.000000e+00</td>\n",
       "      <td>NaN</td>\n",
       "      <td>0.000000e+00</td>\n",
       "      <td>0.000000e+00</td>\n",
       "      <td>0.000000e+00</td>\n",
       "      <td>0.000000e+00</td>\n",
       "    </tr>\n",
       "    <tr>\n",
       "      <th>25%</th>\n",
       "      <td>1.560000e+02</td>\n",
       "      <td>NaN</td>\n",
       "      <td>1.338957e+04</td>\n",
       "      <td>NaN</td>\n",
       "      <td>0.000000e+00</td>\n",
       "      <td>0.000000e+00</td>\n",
       "      <td>NaN</td>\n",
       "      <td>0.000000e+00</td>\n",
       "      <td>0.000000e+00</td>\n",
       "      <td>0.000000e+00</td>\n",
       "      <td>0.000000e+00</td>\n",
       "    </tr>\n",
       "    <tr>\n",
       "      <th>50%</th>\n",
       "      <td>2.390000e+02</td>\n",
       "      <td>NaN</td>\n",
       "      <td>7.487194e+04</td>\n",
       "      <td>NaN</td>\n",
       "      <td>1.420800e+04</td>\n",
       "      <td>0.000000e+00</td>\n",
       "      <td>NaN</td>\n",
       "      <td>1.327057e+05</td>\n",
       "      <td>2.146614e+05</td>\n",
       "      <td>0.000000e+00</td>\n",
       "      <td>0.000000e+00</td>\n",
       "    </tr>\n",
       "    <tr>\n",
       "      <th>75%</th>\n",
       "      <td>3.350000e+02</td>\n",
       "      <td>NaN</td>\n",
       "      <td>2.087215e+05</td>\n",
       "      <td>NaN</td>\n",
       "      <td>1.073152e+05</td>\n",
       "      <td>1.442584e+05</td>\n",
       "      <td>NaN</td>\n",
       "      <td>9.430367e+05</td>\n",
       "      <td>1.111909e+06</td>\n",
       "      <td>0.000000e+00</td>\n",
       "      <td>0.000000e+00</td>\n",
       "    </tr>\n",
       "    <tr>\n",
       "      <th>max</th>\n",
       "      <td>7.430000e+02</td>\n",
       "      <td>NaN</td>\n",
       "      <td>9.244552e+07</td>\n",
       "      <td>NaN</td>\n",
       "      <td>5.958504e+07</td>\n",
       "      <td>4.958504e+07</td>\n",
       "      <td>NaN</td>\n",
       "      <td>3.560159e+08</td>\n",
       "      <td>3.561793e+08</td>\n",
       "      <td>1.000000e+00</td>\n",
       "      <td>1.000000e+00</td>\n",
       "    </tr>\n",
       "  </tbody>\n",
       "</table>\n",
       "</div>"
      ],
      "text/plain": [
       "                step      type        amount     nameOrig  oldbalanceOrg  \\\n",
       "count   6.362620e+06   6362620  6.362620e+06      6362620   6.362620e+06   \n",
       "unique           NaN         5           NaN      6353307            NaN   \n",
       "top              NaN  CASH_OUT           NaN  C1677795071            NaN   \n",
       "freq             NaN   2237500           NaN            3            NaN   \n",
       "mean    2.433972e+02       NaN  1.798619e+05          NaN   8.338831e+05   \n",
       "std     1.423320e+02       NaN  6.038582e+05          NaN   2.888243e+06   \n",
       "min     1.000000e+00       NaN  0.000000e+00          NaN   0.000000e+00   \n",
       "25%     1.560000e+02       NaN  1.338957e+04          NaN   0.000000e+00   \n",
       "50%     2.390000e+02       NaN  7.487194e+04          NaN   1.420800e+04   \n",
       "75%     3.350000e+02       NaN  2.087215e+05          NaN   1.073152e+05   \n",
       "max     7.430000e+02       NaN  9.244552e+07          NaN   5.958504e+07   \n",
       "\n",
       "        newbalanceOrig     nameDest  oldbalanceDest  newbalanceDest  \\\n",
       "count     6.362620e+06      6362620    6.362620e+06    6.362620e+06   \n",
       "unique             NaN      2722362             NaN             NaN   \n",
       "top                NaN  C1286084959             NaN             NaN   \n",
       "freq               NaN          113             NaN             NaN   \n",
       "mean      8.551137e+05          NaN    1.100702e+06    1.224996e+06   \n",
       "std       2.924049e+06          NaN    3.399180e+06    3.674129e+06   \n",
       "min       0.000000e+00          NaN    0.000000e+00    0.000000e+00   \n",
       "25%       0.000000e+00          NaN    0.000000e+00    0.000000e+00   \n",
       "50%       0.000000e+00          NaN    1.327057e+05    2.146614e+05   \n",
       "75%       1.442584e+05          NaN    9.430367e+05    1.111909e+06   \n",
       "max       4.958504e+07          NaN    3.560159e+08    3.561793e+08   \n",
       "\n",
       "             isFraud  isFlaggedFraud  \n",
       "count   6.362620e+06    6.362620e+06  \n",
       "unique           NaN             NaN  \n",
       "top              NaN             NaN  \n",
       "freq             NaN             NaN  \n",
       "mean    1.290820e-03    2.514687e-06  \n",
       "std     3.590480e-02    1.585775e-03  \n",
       "min     0.000000e+00    0.000000e+00  \n",
       "25%     0.000000e+00    0.000000e+00  \n",
       "50%     0.000000e+00    0.000000e+00  \n",
       "75%     0.000000e+00    0.000000e+00  \n",
       "max     1.000000e+00    1.000000e+00  "
      ]
     },
     "execution_count": 29,
     "metadata": {},
     "output_type": "execute_result"
    }
   ],
   "source": [
    "# Estadísticas generales\n",
    "print(\"\\nEstadísticas descriptivas:\")\n",
    "df.describe( include='all')"
   ]
  },
  {
   "cell_type": "code",
   "execution_count": 30,
   "id": "30f0e879",
   "metadata": {},
   "outputs": [
    {
     "name": "stdout",
     "output_type": "stream",
     "text": [
      "11\n",
      "11\n",
      "8\n"
     ]
    }
   ],
   "source": [
    "# Validacion longitud de caracteres\n",
    "print(len(max(df.nameOrig, key=len)))\n",
    "print(len(max(df.nameDest, key=len)))\n",
    "print(len(max(df.type, key=len)))"
   ]
  },
  {
   "cell_type": "code",
   "execution_count": 10,
   "id": "e25a2787",
   "metadata": {},
   "outputs": [
    {
     "data": {
      "text/plain": [
       "step              0\n",
       "type              0\n",
       "amount            0\n",
       "nameOrig          0\n",
       "oldbalanceOrg     0\n",
       "newbalanceOrig    0\n",
       "nameDest          0\n",
       "oldbalanceDest    0\n",
       "newbalanceDest    0\n",
       "isFraud           0\n",
       "isFlaggedFraud    0\n",
       "dtype: int64"
      ]
     },
     "execution_count": 10,
     "metadata": {},
     "output_type": "execute_result"
    }
   ],
   "source": [
    "# Validación de vacíos\n",
    "df.isnull().sum()"
   ]
  },
  {
   "cell_type": "code",
   "execution_count": 11,
   "id": "65076126",
   "metadata": {},
   "outputs": [
    {
     "data": {
      "text/plain": [
       "step              0\n",
       "type              0\n",
       "amount            0\n",
       "nameOrig          0\n",
       "oldbalanceOrg     0\n",
       "newbalanceOrig    0\n",
       "nameDest          0\n",
       "oldbalanceDest    0\n",
       "newbalanceDest    0\n",
       "isFraud           0\n",
       "isFlaggedFraud    0\n",
       "dtype: int64"
      ]
     },
     "execution_count": 11,
     "metadata": {},
     "output_type": "execute_result"
    }
   ],
   "source": [
    "(df == \"\").sum()"
   ]
  },
  {
   "cell_type": "code",
   "execution_count": 14,
   "id": "074f9de6",
   "metadata": {},
   "outputs": [
    {
     "data": {
      "text/plain": [
       "step              0\n",
       "type              0\n",
       "amount            0\n",
       "nameOrig          0\n",
       "oldbalanceOrg     0\n",
       "newbalanceOrig    0\n",
       "nameDest          0\n",
       "oldbalanceDest    0\n",
       "newbalanceDest    0\n",
       "isFraud           0\n",
       "isFlaggedFraud    0\n",
       "dtype: int64"
      ]
     },
     "execution_count": 14,
     "metadata": {},
     "output_type": "execute_result"
    }
   ],
   "source": [
    "df.isna().sum()\n"
   ]
  },
  {
   "cell_type": "markdown",
   "id": "3d57deb13f651ff7",
   "metadata": {},
   "source": [
    "# Limpieza"
   ]
  },
  {
   "cell_type": "code",
   "execution_count": 9,
   "id": "39adc2b85a51ca28",
   "metadata": {
    "ExecuteTime": {
     "end_time": "2025-04-08T04:21:32.603104Z",
     "start_time": "2025-04-08T04:21:22.656121Z"
    }
   },
   "outputs": [
    {
     "name": "stdout",
     "output_type": "stream",
     "text": [
      "Registros originales: 6362620 | Registros limpios: 6362620\n"
     ]
    }
   ],
   "source": [
    "# Eliminar duplicados\n",
    "df_clean = df.drop_duplicates()\n",
    "print(f\"Registros originales: {len(df)} | Registros limpios: {len(df_clean)}\")"
   ]
  },
  {
   "cell_type": "code",
   "execution_count": 10,
   "id": "3a30252c459a01f3",
   "metadata": {
    "ExecuteTime": {
     "end_time": "2025-04-08T04:21:52.544167Z",
     "start_time": "2025-04-08T04:21:51.800393Z"
    }
   },
   "outputs": [
    {
     "name": "stdout",
     "output_type": "stream",
     "text": [
      "step              0\n",
      "type              0\n",
      "amount            0\n",
      "nameOrig          0\n",
      "oldbalanceOrg     0\n",
      "newbalanceOrig    0\n",
      "nameDest          0\n",
      "oldbalanceDest    0\n",
      "newbalanceDest    0\n",
      "isFraud           0\n",
      "isFlaggedFraud    0\n",
      "dtype: int64\n"
     ]
    }
   ],
   "source": [
    "# Verificar nulos por columna\n",
    "print(df_clean.isnull().sum())\n",
    "\n",
    "# Si hay nulos en 'amount' (raro en este dataset):\n",
    "df_clean[\"amount\"] = df_clean[\"amount\"].fillna(df_clean[\"amount\"].median())"
   ]
  },
  {
   "cell_type": "code",
   "execution_count": 11,
   "id": "96d8df4e",
   "metadata": {},
   "outputs": [],
   "source": [
    "df = df_clean.copy()"
   ]
  },
  {
   "cell_type": "markdown",
   "id": "e0cb2232219ce60",
   "metadata": {},
   "source": [
    "# Visualizacion"
   ]
  },
  {
   "cell_type": "code",
   "execution_count": 18,
   "id": "7d361534fdd9e2d",
   "metadata": {
    "ExecuteTime": {
     "end_time": "2025-04-08T04:09:45.218427Z",
     "start_time": "2025-04-08T04:09:38.845668Z"
    }
   },
   "outputs": [
    {
     "name": "stdout",
     "output_type": "stream",
     "text": [
      "isFraud\n",
      "0    0.998709\n",
      "1    0.001291\n",
      "Name: proportion, dtype: float64\n"
     ]
    },
    {
     "data": {
      "image/png": "[encoded data removed]",
      "text/plain": [
       "<Figure size 640x480 with 1 Axes>"
      ]
     },
     "metadata": {},
     "output_type": "display_data"
    }
   ],
   "source": [
    "# Distribución de clases\n",
    "sns.countplot(data=df, x='isFraud')\n",
    "plt.title(\"Distribución de Transacciones Fraudulentas vs No Fraudulentas\")\n",
    "print(df['isFraud'].value_counts(normalize=True))\n",
    "plt.show()"
   ]
  },
  {
   "cell_type": "code",
   "execution_count": 13,
   "id": "19871227212c33b9",
   "metadata": {
    "ExecuteTime": {
     "end_time": "2025-04-08T02:52:58.635724Z",
     "start_time": "2025-04-08T02:52:53.318380Z"
    }
   },
   "outputs": [
    {
     "data": {
      "image/png": "[encoded data removed]",
      "text/plain": [
       "<Figure size 640x480 with 1 Axes>"
      ]
     },
     "metadata": {},
     "output_type": "display_data"
    }
   ],
   "source": [
    "# Tipos de transacción\n",
    "sns.countplot(data=df, x='type', order=df['type'].value_counts().index)\n",
    "plt.title(\"Tipos de Transacción\")\n",
    "plt.xticks(rotation=45)\n",
    "plt.show()"
   ]
  },
  {
   "cell_type": "code",
   "execution_count": 14,
   "id": "7e3f8a35905beb90",
   "metadata": {
    "ExecuteTime": {
     "end_time": "2025-04-08T04:09:16.185997Z",
     "start_time": "2025-04-08T04:09:11.481491Z"
    }
   },
   "outputs": [
    {
     "data": {
      "image/png": "[encoded data removed]",
      "text/plain": [
       "<Figure size 640x480 with 1 Axes>"
      ]
     },
     "metadata": {},
     "output_type": "display_data"
    }
   ],
   "source": [
    "# Tipos de transacción fraudulenta\n",
    "sns.countplot(data=df, x='type', order=df[df['isFraud']==1]['type'].value_counts().index)\n",
    "plt.title(\"Tipos de Transacción fraudulentas\")\n",
    "plt.xticks(rotation=45)\n",
    "plt.show()"
   ]
  },
  {
   "cell_type": "code",
   "execution_count": 15,
   "id": "581269ad433cd1e",
   "metadata": {
    "ExecuteTime": {
     "end_time": "2025-04-08T03:51:40.731437Z",
     "start_time": "2025-04-08T03:51:33.657434Z"
    }
   },
   "outputs": [
    {
     "data": {
      "image/png": "[encoded data removed]",
      "text/plain": [
       "<Figure size 640x480 with 1 Axes>"
      ]
     },
     "metadata": {},
     "output_type": "display_data"
    }
   ],
   "source": [
    "# Comparar montos fraudulentos vs no fraudulentos\n",
    "sns.boxplot(data=df[df['amount'] < 1000000], x='isFraud', y='amount')\n",
    "plt.title(\"Distribución de Montos por Transacción Fraudulenta\")\n",
    "plt.show()"
   ]
  },
  {
   "cell_type": "markdown",
   "id": "fd6152ffbe7b9dfa",
   "metadata": {},
   "source": [
    "# Procesado de datos"
   ]
  },
  {
   "cell_type": "code",
   "execution_count": 16,
   "id": "2526036d95f65593",
   "metadata": {},
   "outputs": [],
   "source": [
    "# Creacion de columna normalizada de la cantidad de la transacción\n",
    "df_clean[\"amount_log\"] = np.log(df_clean[\"amount\"] + 1)"
   ]
  },
  {
   "cell_type": "code",
   "execution_count": 17,
   "id": "9f7001d6",
   "metadata": {},
   "outputs": [
    {
     "data": {
      "text/html": [
       "<div>\n",
       "<style scoped>\n",
       "    .dataframe tbody tr th:only-of-type {\n",
       "        vertical-align: middle;\n",
       "    }\n",
       "\n",
       "    .dataframe tbody tr th {\n",
       "        vertical-align: top;\n",
       "    }\n",
       "\n",
       "    .dataframe thead th {\n",
       "        text-align: right;\n",
       "    }\n",
       "</style>\n",
       "<table border=\"1\" class=\"dataframe\">\n",
       "  <thead>\n",
       "    <tr style=\"text-align: right;\">\n",
       "      <th></th>\n",
       "      <th>step</th>\n",
       "      <th>fecha</th>\n",
       "    </tr>\n",
       "  </thead>\n",
       "  <tbody>\n",
       "    <tr>\n",
       "      <th>6362615</th>\n",
       "      <td>743</td>\n",
       "      <td>2025-01-31 23:00:00</td>\n",
       "    </tr>\n",
       "    <tr>\n",
       "      <th>6362616</th>\n",
       "      <td>743</td>\n",
       "      <td>2025-01-31 23:00:00</td>\n",
       "    </tr>\n",
       "    <tr>\n",
       "      <th>6362617</th>\n",
       "      <td>743</td>\n",
       "      <td>2025-01-31 23:00:00</td>\n",
       "    </tr>\n",
       "    <tr>\n",
       "      <th>6362618</th>\n",
       "      <td>743</td>\n",
       "      <td>2025-01-31 23:00:00</td>\n",
       "    </tr>\n",
       "    <tr>\n",
       "      <th>6362619</th>\n",
       "      <td>743</td>\n",
       "      <td>2025-01-31 23:00:00</td>\n",
       "    </tr>\n",
       "  </tbody>\n",
       "</table>\n",
       "</div>"
      ],
      "text/plain": [
       "         step               fecha\n",
       "6362615   743 2025-01-31 23:00:00\n",
       "6362616   743 2025-01-31 23:00:00\n",
       "6362617   743 2025-01-31 23:00:00\n",
       "6362618   743 2025-01-31 23:00:00\n",
       "6362619   743 2025-01-31 23:00:00"
      ]
     },
     "execution_count": 17,
     "metadata": {},
     "output_type": "execute_result"
    }
   ],
   "source": [
    "# Crear una columna de fecha basada en la columna 'step'\n",
    "# Asumimos que cada 'step' representa una hora desde el 1 de enero a las 00:00\n",
    "start_date = pd.Timestamp(\"2025-01-01 00:00:00\")  # Fecha inicial\n",
    "df_clean[\"fecha\"] = start_date + pd.to_timedelta(df_clean[\"step\"], unit=\"h\")\n",
    "\n",
    "df_clean[[\"step\", \"fecha\"]].tail()"
   ]
  },
  {
   "cell_type": "code",
   "execution_count": 18,
   "id": "dd39f578",
   "metadata": {},
   "outputs": [
    {
     "name": "stdout",
     "output_type": "stream",
     "text": [
      "step                       int64\n",
      "type                    category\n",
      "amount                   float64\n",
      "nameOrig                category\n",
      "oldbalanceOrg            float64\n",
      "newbalanceOrig           float64\n",
      "nameDest                category\n",
      "oldbalanceDest           float64\n",
      "newbalanceDest           float64\n",
      "isFraud                    int64\n",
      "isFlaggedFraud             int64\n",
      "amount_log               float64\n",
      "fecha             datetime64[ns]\n",
      "dtype: object\n"
     ]
    }
   ],
   "source": [
    "# Convertir columnas de tipo object a tipo category\n",
    "object_columns = df_clean.select_dtypes(include=[\"object\"]).columns\n",
    "df_clean[object_columns] = df_clean[object_columns].astype(\"category\")\n",
    "\n",
    "# Verificar los tipos de datos después de la conversión\n",
    "print(df_clean.dtypes)"
   ]
  },
  {
   "cell_type": "markdown",
   "id": "39cabc7a",
   "metadata": {},
   "source": [
    "# Lectura"
   ]
  },
  {
   "cell_type": "code",
   "execution_count": 34,
   "id": "91fd46ef",
   "metadata": {},
   "outputs": [
    {
     "data": {
      "text/html": [
       "<div>\n",
       "<style scoped>\n",
       "    .dataframe tbody tr th:only-of-type {\n",
       "        vertical-align: middle;\n",
       "    }\n",
       "\n",
       "    .dataframe tbody tr th {\n",
       "        vertical-align: top;\n",
       "    }\n",
       "\n",
       "    .dataframe thead th {\n",
       "        text-align: right;\n",
       "    }\n",
       "</style>\n",
       "<table border=\"1\" class=\"dataframe\">\n",
       "  <thead>\n",
       "    <tr style=\"text-align: right;\">\n",
       "      <th></th>\n",
       "      <th>type</th>\n",
       "      <th>amount</th>\n",
       "      <th>name_orig</th>\n",
       "      <th>orig_balance_orig</th>\n",
       "      <th>new_balance_orig</th>\n",
       "      <th>name_dest</th>\n",
       "      <th>old_balance_dest</th>\n",
       "      <th>new_balance_dest</th>\n",
       "      <th>is_fraud</th>\n",
       "      <th>is_flagged_fraud</th>\n",
       "      <th>datetime</th>\n",
       "    </tr>\n",
       "  </thead>\n",
       "  <tbody>\n",
       "    <tr>\n",
       "      <th>0</th>\n",
       "      <td>PAYMENT</td>\n",
       "      <td>9.753550e+03</td>\n",
       "      <td>C1048712791</td>\n",
       "      <td>6.082900e+04</td>\n",
       "      <td>51075.449219</td>\n",
       "      <td>M487792155</td>\n",
       "      <td>0.000</td>\n",
       "      <td>0.00</td>\n",
       "      <td>False</td>\n",
       "      <td>False</td>\n",
       "      <td>2025-01-01</td>\n",
       "    </tr>\n",
       "    <tr>\n",
       "      <th>1</th>\n",
       "      <td>CASH_OUT</td>\n",
       "      <td>3.387671e+05</td>\n",
       "      <td>C691691381</td>\n",
       "      <td>0.000000e+00</td>\n",
       "      <td>0.000000</td>\n",
       "      <td>C453211571</td>\n",
       "      <td>544481.250</td>\n",
       "      <td>3461666.00</td>\n",
       "      <td>False</td>\n",
       "      <td>False</td>\n",
       "      <td>2025-01-01</td>\n",
       "    </tr>\n",
       "    <tr>\n",
       "      <th>2</th>\n",
       "      <td>TRANSFER</td>\n",
       "      <td>2.764606e+05</td>\n",
       "      <td>C1871680329</td>\n",
       "      <td>5.950000e+02</td>\n",
       "      <td>0.000000</td>\n",
       "      <td>C1360767589</td>\n",
       "      <td>1105242.250</td>\n",
       "      <td>2107965.50</td>\n",
       "      <td>False</td>\n",
       "      <td>False</td>\n",
       "      <td>2025-01-01</td>\n",
       "    </tr>\n",
       "    <tr>\n",
       "      <th>3</th>\n",
       "      <td>PAYMENT</td>\n",
       "      <td>7.649410e+03</td>\n",
       "      <td>C1129869771</td>\n",
       "      <td>4.443575e+04</td>\n",
       "      <td>36786.339844</td>\n",
       "      <td>M1620459733</td>\n",
       "      <td>0.000</td>\n",
       "      <td>0.00</td>\n",
       "      <td>False</td>\n",
       "      <td>False</td>\n",
       "      <td>2025-01-01</td>\n",
       "    </tr>\n",
       "    <tr>\n",
       "      <th>4</th>\n",
       "      <td>PAYMENT</td>\n",
       "      <td>1.489551e+04</td>\n",
       "      <td>C1527882132</td>\n",
       "      <td>0.000000e+00</td>\n",
       "      <td>0.000000</td>\n",
       "      <td>M935160003</td>\n",
       "      <td>0.000</td>\n",
       "      <td>0.00</td>\n",
       "      <td>False</td>\n",
       "      <td>False</td>\n",
       "      <td>2025-01-01</td>\n",
       "    </tr>\n",
       "    <tr>\n",
       "      <th>...</th>\n",
       "      <td>...</td>\n",
       "      <td>...</td>\n",
       "      <td>...</td>\n",
       "      <td>...</td>\n",
       "      <td>...</td>\n",
       "      <td>...</td>\n",
       "      <td>...</td>\n",
       "      <td>...</td>\n",
       "      <td>...</td>\n",
       "      <td>...</td>\n",
       "      <td>...</td>\n",
       "    </tr>\n",
       "    <tr>\n",
       "      <th>6362615</th>\n",
       "      <td>CASH_OUT</td>\n",
       "      <td>8.276365e+04</td>\n",
       "      <td>C1228321734</td>\n",
       "      <td>5.033200e+04</td>\n",
       "      <td>0.000000</td>\n",
       "      <td>C976143620</td>\n",
       "      <td>795837.625</td>\n",
       "      <td>878601.25</td>\n",
       "      <td>False</td>\n",
       "      <td>False</td>\n",
       "      <td>2025-01-30</td>\n",
       "    </tr>\n",
       "    <tr>\n",
       "      <th>6362616</th>\n",
       "      <td>PAYMENT</td>\n",
       "      <td>8.197960e+03</td>\n",
       "      <td>C1832889744</td>\n",
       "      <td>4.500000e+03</td>\n",
       "      <td>0.000000</td>\n",
       "      <td>M1802088833</td>\n",
       "      <td>0.000</td>\n",
       "      <td>0.00</td>\n",
       "      <td>False</td>\n",
       "      <td>False</td>\n",
       "      <td>2025-01-30</td>\n",
       "    </tr>\n",
       "    <tr>\n",
       "      <th>6362617</th>\n",
       "      <td>PAYMENT</td>\n",
       "      <td>4.373440e+03</td>\n",
       "      <td>C1772016180</td>\n",
       "      <td>3.960000e+04</td>\n",
       "      <td>35226.558594</td>\n",
       "      <td>M113866504</td>\n",
       "      <td>0.000</td>\n",
       "      <td>0.00</td>\n",
       "      <td>False</td>\n",
       "      <td>False</td>\n",
       "      <td>2025-01-30</td>\n",
       "    </tr>\n",
       "    <tr>\n",
       "      <th>6362618</th>\n",
       "      <td>TRANSFER</td>\n",
       "      <td>2.747996e+05</td>\n",
       "      <td>C1459244245</td>\n",
       "      <td>2.747996e+05</td>\n",
       "      <td>0.000000</td>\n",
       "      <td>C957617194</td>\n",
       "      <td>0.000</td>\n",
       "      <td>0.00</td>\n",
       "      <td>True</td>\n",
       "      <td>False</td>\n",
       "      <td>2025-01-31</td>\n",
       "    </tr>\n",
       "    <tr>\n",
       "      <th>6362619</th>\n",
       "      <td>TRANSFER</td>\n",
       "      <td>2.194534e+06</td>\n",
       "      <td>C871130115</td>\n",
       "      <td>2.194534e+06</td>\n",
       "      <td>0.000000</td>\n",
       "      <td>C1027984317</td>\n",
       "      <td>0.000</td>\n",
       "      <td>0.00</td>\n",
       "      <td>True</td>\n",
       "      <td>False</td>\n",
       "      <td>2025-01-31</td>\n",
       "    </tr>\n",
       "  </tbody>\n",
       "</table>\n",
       "<p>6362620 rows × 11 columns</p>\n",
       "</div>"
      ],
      "text/plain": [
       "             type        amount    name_orig  orig_balance_orig  \\\n",
       "0         PAYMENT  9.753550e+03  C1048712791       6.082900e+04   \n",
       "1        CASH_OUT  3.387671e+05   C691691381       0.000000e+00   \n",
       "2        TRANSFER  2.764606e+05  C1871680329       5.950000e+02   \n",
       "3         PAYMENT  7.649410e+03  C1129869771       4.443575e+04   \n",
       "4         PAYMENT  1.489551e+04  C1527882132       0.000000e+00   \n",
       "...           ...           ...          ...                ...   \n",
       "6362615  CASH_OUT  8.276365e+04  C1228321734       5.033200e+04   \n",
       "6362616   PAYMENT  8.197960e+03  C1832889744       4.500000e+03   \n",
       "6362617   PAYMENT  4.373440e+03  C1772016180       3.960000e+04   \n",
       "6362618  TRANSFER  2.747996e+05  C1459244245       2.747996e+05   \n",
       "6362619  TRANSFER  2.194534e+06   C871130115       2.194534e+06   \n",
       "\n",
       "         new_balance_orig    name_dest  old_balance_dest  new_balance_dest  \\\n",
       "0            51075.449219   M487792155             0.000              0.00   \n",
       "1                0.000000   C453211571        544481.250        3461666.00   \n",
       "2                0.000000  C1360767589       1105242.250        2107965.50   \n",
       "3            36786.339844  M1620459733             0.000              0.00   \n",
       "4                0.000000   M935160003             0.000              0.00   \n",
       "...                   ...          ...               ...               ...   \n",
       "6362615          0.000000   C976143620        795837.625         878601.25   \n",
       "6362616          0.000000  M1802088833             0.000              0.00   \n",
       "6362617      35226.558594   M113866504             0.000              0.00   \n",
       "6362618          0.000000   C957617194             0.000              0.00   \n",
       "6362619          0.000000  C1027984317             0.000              0.00   \n",
       "\n",
       "         is_fraud  is_flagged_fraud    datetime  \n",
       "0           False             False  2025-01-01  \n",
       "1           False             False  2025-01-01  \n",
       "2           False             False  2025-01-01  \n",
       "3           False             False  2025-01-01  \n",
       "4           False             False  2025-01-01  \n",
       "...           ...               ...         ...  \n",
       "6362615     False             False  2025-01-30  \n",
       "6362616     False             False  2025-01-30  \n",
       "6362617     False             False  2025-01-30  \n",
       "6362618      True             False  2025-01-31  \n",
       "6362619      True             False  2025-01-31  \n",
       "\n",
       "[6362620 rows x 11 columns]"
      ]
     },
     "execution_count": 34,
     "metadata": {},
     "output_type": "execute_result"
    }
   ],
   "source": [
    "# Leer el archivo Parquet\n",
    "df_loaded = pd.read_parquet(output_path)\n",
    "df_loaded"
   ]
  },
  {
   "cell_type": "code",
   "execution_count": 41,
   "id": "03ff6e4c",
   "metadata": {},
   "outputs": [
    {
     "data": {
      "text/plain": [
       "account_code    object\n",
       "account_id       int64\n",
       "dtype: object"
      ]
     },
     "execution_count": 41,
     "metadata": {},
     "output_type": "execute_result"
    }
   ],
   "source": [
    "# leer account.parquet\n",
    "account_path = base_dir / 'data' / 'modeled' / 'account.parquet'\n",
    "df_account = pd.read_parquet(account_path)\n",
    "df_account.dtypes"
   ]
  },
  {
   "cell_type": "code",
   "execution_count": 40,
   "id": "75fcc0eb",
   "metadata": {},
   "outputs": [
    {
     "data": {
      "text/plain": [
       "type_id              int32\n",
       "transaction_type    object\n",
       "dtype: object"
      ]
     },
     "execution_count": 40,
     "metadata": {},
     "output_type": "execute_result"
    }
   ],
   "source": [
    "# leer transaction_type.parquet\n",
    "account_path = base_dir / 'data' / 'modeled' / 'transaction_type.parquet'\n",
    "df_account = pd.read_parquet(account_path)\n",
    "df_account.dtypes"
   ]
  },
  {
   "cell_type": "code",
   "execution_count": 39,
   "id": "9a1d3cdd",
   "metadata": {},
   "outputs": [
    {
     "data": {
      "text/plain": [
       "transaction_id       int64\n",
       "type_id              int32\n",
       "orig_account_id      int64\n",
       "dest_account_id      int64\n",
       "old_balance_orig    object\n",
       "new_balance_orig    object\n",
       "old_balance_dest    object\n",
       "new_balance_dest    object\n",
       "amount              object\n",
       "is_fraud              bool\n",
       "is_flagged_fraud      bool\n",
       "datetime            object\n",
       "dtype: object"
      ]
     },
     "execution_count": 39,
     "metadata": {},
     "output_type": "execute_result"
    }
   ],
   "source": [
    "# leer transaction.parquet\n",
    "account_path = base_dir / 'data' / 'modeled' / 'transaction.parquet'\n",
    "df_account = pd.read_parquet(account_path)\n",
    "df_account.dtypes"
   ]
  }
 ],
 "metadata": {
  "kernelspec": {
   "display_name": ".venv",
   "language": "python",
   "name": "python3"
  },
  "language_info": {
   "codemirror_mode": {
    "name": "ipython",
    "version": 3
   },
   "file_extension": ".py",
   "mimetype": "text/x-python",
   "name": "python",
   "nbconvert_exporter": "python",
   "pygments_lexer": "ipython3",
   "version": "3.11.3"
  }
 },
 "nbformat": 4,
 "nbformat_minor": 5
}
